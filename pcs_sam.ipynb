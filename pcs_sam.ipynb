{
 "metadata": {
  "language_info": {
   "codemirror_mode": {
    "name": "ipython",
    "version": 3
   },
   "file_extension": ".py",
   "mimetype": "text/x-python",
   "name": "python",
   "nbconvert_exporter": "python",
   "pygments_lexer": "ipython3",
   "version": "3.6.6-final"
  },
  "orig_nbformat": 2,
  "kernelspec": {
   "name": "python36664bitvenvvirtualenv3cb4ec72f3024435af1c9600ebbdae1e",
   "display_name": "Python 3.6.6 64-bit ('venv': virtualenv)"
  }
 },
 "nbformat": 4,
 "nbformat_minor": 2,
 "cells": [
  {
   "cell_type": "code",
   "execution_count": 1,
   "metadata": {},
   "outputs": [],
   "source": [
    "import requests\n",
    "import pandas as pd\n",
    "import numpy as np\n",
    "import pprint"
   ]
  },
  {
   "cell_type": "code",
   "execution_count": 2,
   "metadata": {},
   "outputs": [],
   "source": [
    "extract_df = pd.read_csv('FY2020_archived_opportunities.csv',encoding='iso-8859-1')"
   ]
  },
  {
   "cell_type": "code",
   "execution_count": 74,
   "metadata": {},
   "outputs": [],
   "source": [
    "extract_csv = extract_df.head(50)"
   ]
  },
  {
   "cell_type": "code",
   "execution_count": 75,
   "metadata": {},
   "outputs": [],
   "source": [
    "extract_csv.to_csv('example.csv')"
   ]
  },
  {
   "cell_type": "code",
   "execution_count": 82,
   "metadata": {},
   "outputs": [],
   "source": [
    "#extract_csv.head(5)"
   ]
  },
  {
   "cell_type": "code",
   "execution_count": 3,
   "metadata": {},
   "outputs": [],
   "source": [
    "address_spend = pd.read_csv('BIC_Addressable_Matrix.csv',encoding='iso-8859-1')\n",
    "address_spend_2 = pd.read_csv('TIER_2_Addressable_Matrix.csv',encoding='iso-8859-1')"
   ]
  },
  {
   "cell_type": "code",
   "execution_count": 4,
   "metadata": {},
   "outputs": [
    {
     "output_type": "execute_result",
     "data": {
      "text/plain": "Index(['addressability_key', 'addressability_contracts',\n       'addressability_flag'],\n      dtype='object')"
     },
     "metadata": {},
     "execution_count": 4
    }
   ],
   "source": [
    "address_spend.columns"
   ]
  },
  {
   "cell_type": "code",
   "execution_count": 5,
   "metadata": {},
   "outputs": [],
   "source": [
    "address_spend_2.drop(columns=['addressability_contracts','addressability_flag'],inplace=True)\n",
    "address_spend.drop(columns=['addressability_contracts','addressability_flag'],inplace=True)"
   ]
  },
  {
   "cell_type": "code",
   "execution_count": 6,
   "metadata": {},
   "outputs": [
    {
     "output_type": "execute_result",
     "data": {
      "text/plain": "Index(['NoticeId', 'Title', 'Sol#', 'Department/Ind.Agency', 'CGAC',\n       'Sub-Tier', 'FPDS Code', 'Office', 'AAC Code', 'PostedDate', 'Type',\n       'BaseType', 'ArchiveType', 'ArchiveDate', 'SetASideCode', 'SetASide',\n       'ResponseDeadLine', 'NaicsCode', 'ClassificationCode',\n       'PopStreetAddress', 'PopCity', 'PopState', 'PopZip', 'PopCountry',\n       'Active', 'AwardNumber', 'AwardDate', 'Award$', 'Awardee',\n       'PrimaryContactTitle', 'PrimaryContactFullname', 'PrimaryContactEmail',\n       'PrimaryContactPhone', 'PrimaryContactFax', 'SecondaryContactTitle',\n       'SecondaryContactFullname', 'SecondaryContactEmail',\n       'SecondaryContactPhone', 'SecondaryContactFax', 'OrganizationType',\n       'State', 'City', 'ZipCode', 'CountryCode', 'AdditionalInfoLink', 'Link',\n       'Description'],\n      dtype='object')"
     },
     "metadata": {},
     "execution_count": 6
    }
   ],
   "source": [
    "extract_df.columns"
   ]
  },
  {
   "cell_type": "code",
   "execution_count": 10,
   "metadata": {},
   "outputs": [],
   "source": [
    "extract_df = extract_df[extract_df['Type'] == 'Presolicitation']"
   ]
  },
  {
   "cell_type": "code",
   "execution_count": 11,
   "metadata": {},
   "outputs": [],
   "source": [
    "extract_df.dropna(axis=0,subset =['NaicsCode','ClassificationCode'],inplace=True)"
   ]
  },
  {
   "cell_type": "code",
   "execution_count": 12,
   "metadata": {},
   "outputs": [
    {
     "output_type": "execute_result",
     "data": {
      "text/plain": "11        541330\n13        541330\n29        334310\n30        334310\n31        334310\n           ...  \n279635    236220\n279680    236220\n279681    236220\n279682    236220\n279693    541330\nName: NaicsCode, Length: 23394, dtype: int32"
     },
     "metadata": {},
     "execution_count": 12
    }
   ],
   "source": [
    "pd.to_numeric(extract_df['NaicsCode'],downcast='integer')"
   ]
  },
  {
   "cell_type": "code",
   "execution_count": 20,
   "metadata": {},
   "outputs": [
    {
     "output_type": "execute_result",
     "data": {
      "text/plain": "23394"
     },
     "metadata": {},
     "execution_count": 20
    }
   ],
   "source": [
    "len(extract_df)"
   ]
  },
  {
   "cell_type": "code",
   "execution_count": 13,
   "metadata": {},
   "outputs": [],
   "source": [
    "def combine (x,y):\n",
    "    return str(x)+'_'+str(int(y))"
   ]
  },
  {
   "cell_type": "code",
   "execution_count": 14,
   "metadata": {},
   "outputs": [],
   "source": [
    "extract_df['combined_codes'] = extract_df.apply(lambda x : combine(x['ClassificationCode'],x['NaicsCode']),axis=1)"
   ]
  },
  {
   "cell_type": "code",
   "execution_count": 15,
   "metadata": {},
   "outputs": [],
   "source": [
    "#pd.concat(['address_spend','address_spend_2'],axis=1)\n",
    "append_spend = address_spend.append(address_spend_2,ignore_index=True)"
   ]
  },
  {
   "cell_type": "code",
   "execution_count": 18,
   "metadata": {},
   "outputs": [
    {
     "output_type": "execute_result",
     "data": {
      "text/plain": "26178"
     },
     "metadata": {},
     "execution_count": 18
    }
   ],
   "source": [
    "len(append_spend)"
   ]
  },
  {
   "cell_type": "code",
   "execution_count": 16,
   "metadata": {},
   "outputs": [],
   "source": [
    "merged_df = extract_df.merge(append_spend,left_on='combined_codes',right_on='addressability_key')"
   ]
  },
  {
   "cell_type": "code",
   "execution_count": 17,
   "metadata": {},
   "outputs": [
    {
     "output_type": "execute_result",
     "data": {
      "text/plain": "11944"
     },
     "metadata": {},
     "execution_count": 17
    }
   ],
   "source": [
    "len(merged_df)"
   ]
  },
  {
   "cell_type": "code",
   "execution_count": 178,
   "metadata": {},
   "outputs": [],
   "source": [
    "a = merged_df.addressability_key"
   ]
  },
  {
   "cell_type": "code",
   "execution_count": 19,
   "metadata": {},
   "outputs": [],
   "source": [
    "merged_df.to_csv('merged_df.csv')"
   ]
  },
  {
   "cell_type": "code",
   "execution_count": 180,
   "metadata": {},
   "outputs": [
    {
     "output_type": "execute_result",
     "data": {
      "text/plain": "11944"
     },
     "metadata": {},
     "execution_count": 180
    }
   ],
   "source": [
    "len(a)"
   ]
  },
  {
   "cell_type": "code",
   "execution_count": 22,
   "metadata": {},
   "outputs": [
    {
     "output_type": "execute_result",
     "data": {
      "text/plain": "0.510558262802428"
     },
     "metadata": {},
     "execution_count": 22
    }
   ],
   "source": [
    "len(merged_df)/len (extract_df)"
   ]
  },
  {
   "cell_type": "code",
   "execution_count": null,
   "metadata": {},
   "outputs": [],
   "source": []
  }
 ]
}